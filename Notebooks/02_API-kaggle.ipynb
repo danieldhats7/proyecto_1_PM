{
 "cells": [
  {
   "cell_type": "code",
   "execution_count": 3,
   "metadata": {},
   "outputs": [],
   "source": [
    "import zipfile\n",
    "from sqlalchemy import create_engine\n",
    "\n",
    "with zipfile.ZipFile('../dataaa/brazilian-ecommerce.zip', 'r') as zip_ref:\n",
    "    zip_ref.extractall('../dataaas')"
   ]
  },
  {
   "cell_type": "code",
   "execution_count": null,
   "metadata": {},
   "outputs": [],
   "source": []
  }
 ],
 "metadata": {
  "interpreter": {
   "hash": "1f39fb6b777c1e497eb617978fedd214e5aa12a2b61a5ac9679aa8ca445266d3"
  },
  "kernelspec": {
   "display_name": "Python 3.9.7 ('env': venv)",
   "language": "python",
   "name": "python3"
  },
  "language_info": {
   "codemirror_mode": {
    "name": "ipython",
    "version": 3
   },
   "file_extension": ".py",
   "mimetype": "text/x-python",
   "name": "python",
   "nbconvert_exporter": "python",
   "pygments_lexer": "ipython3",
   "version": "3.9.7"
  },
  "orig_nbformat": 4
 },
 "nbformat": 4,
 "nbformat_minor": 2
}
